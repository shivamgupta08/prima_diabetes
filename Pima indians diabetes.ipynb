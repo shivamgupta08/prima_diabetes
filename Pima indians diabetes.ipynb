{
 "cells": [
  {
   "cell_type": "markdown",
   "metadata": {},
   "source": [
    "# Pima Indian Diabetes Dataset\n",
    "## Attribute Information:\n",
    "\n",
    "    1) Number of times pregnant\n",
    "    2) Plasma glucose concentration a 2 hours in an oral glucose tolerance test\n",
    "    3) Diastolic blood pressure (mm Hg)\n",
    "    4) Triceps skin fold thickness (mm)\n",
    "    5) 2-Hour serum insulin (mu U/ml)\n",
    "    6) Body mass index (weight in kg/(height in m)^2)\n",
    "    7) Diabetes pedigree function\n",
    "    8) Age (years)\n",
    "    9) Outcome (0 - No or 1 - Yes)"
   ]
  },
  {
   "cell_type": "code",
   "execution_count": null,
   "metadata": {
    "_cell_guid": "b1076dfc-b9ad-4769-8c92-a6c4dae69d19",
    "_uuid": "8f2839f25d086af736a60e9eeb907d3b93b6e0e5"
   },
   "outputs": [],
   "source": [
    "#Importing the necessary libraries\n",
    "import pandas as pd\n",
    "import numpy as np\n",
    "import matplotlib.pyplot as plt\n",
    "import seaborn as sns\n",
    "import warnings\n",
    "import os\n",
    "%matplotlib inline\n",
    "sns.set_style(\"darkgrid\")\n",
    "warnings.filterwarnings(\"ignore\")\n",
    "df = pd.read_csv('diabetes.csv')"
   ]
  },
  {
   "cell_type": "code",
   "execution_count": null,
   "metadata": {
    "_cell_guid": "79c7e3d0-c299-4dcb-8224-4455121ee9b0",
    "_uuid": "d629ff2d2480ee46fbb7e2d37f6b5fab8052498a"
   },
   "outputs": [],
   "source": [
    "#Checking the head of the dataset.\n",
    "df.head()"
   ]
  },
  {
   "cell_type": "code",
   "execution_count": null,
   "metadata": {},
   "outputs": [],
   "source": [
    "#Checking the dataset info\n",
    "df.info()"
   ]
  },
  {
   "cell_type": "markdown",
   "metadata": {},
   "source": [
    "It can be seen that SkinThickness has a value of 0 for index 2 in df.head() which makes no sense. So instead of NaN, missing values are actually represented as 0's."
   ]
  },
  {
   "cell_type": "code",
   "execution_count": null,
   "metadata": {},
   "outputs": [],
   "source": [
    "df[['Glucose','BloodPressure','SkinThickness','Insulin','BMI']] = df[['Glucose','BloodPressure','SkinThickness','Insulin','BMI']].replace(0,np.NaN)"
   ]
  },
  {
   "cell_type": "code",
   "execution_count": null,
   "metadata": {},
   "outputs": [],
   "source": [
    "df_2 = df.set_index('Outcome')\n",
    "sns.heatmap(df_2.isnull(), cbar=False);"
   ]
  },
  {
   "cell_type": "code",
   "execution_count": null,
   "metadata": {},
   "outputs": [],
   "source": [
    "df.isnull().sum().sort_values()"
   ]
  },
  {
   "cell_type": "markdown",
   "metadata": {},
   "source": [
    "We won't drop any columns as all columns have important pieces of data and hence dimensionality reduction shouldn't take place So we will first split the dataframes based on outcome, fill the missing values with the mean of the data, and then recombine the dataframe."
   ]
  },
  {
   "cell_type": "code",
   "execution_count": null,
   "metadata": {},
   "outputs": [],
   "source": [
    "df_0=df[df['Outcome']==0]\n",
    "df_1=df[df['Outcome']==1]\n",
    "df_0.fillna(df_0.mean(),inplace=True)\n",
    "df_1.fillna(df_1.mean(),inplace=True)"
   ]
  },
  {
   "cell_type": "code",
   "execution_count": null,
   "metadata": {},
   "outputs": [],
   "source": [
    "data=pd.concat([df_0,df_1])\n",
    "data.describe()"
   ]
  },
  {
   "cell_type": "markdown",
   "metadata": {},
   "source": [
    "* **UNIVARIATE ANALYSIS**"
   ]
  },
  {
   "cell_type": "markdown",
   "metadata": {},
   "source": [
    "Violin Plot to see the distribution of variables when both Diabetic and Non-Diabetic"
   ]
  },
  {
   "cell_type": "code",
   "execution_count": null,
   "metadata": {},
   "outputs": [],
   "source": [
    "fig,ax=plt.subplots(4,2,figsize=(15,15))\n",
    "fig.delaxes(ax[3,1])\n",
    "\n",
    "for i,cols in enumerate(['Pregnancies','Glucose','BloodPressure','SkinThickness','Insulin','BMI','DiabetesPedigreeFunction']):\n",
    "    fig = sns.violinplot(x = 'Outcome',y = cols,data = df_1,ax=ax[i//2,i%2],color='turquoise',violinmode='overlay')\n",
    "    fig = sns.violinplot(x = 'Outcome',y = cols,data = df_0,ax=ax[i//2,i%2],color='coral',violinmode='overlay')\n",
    "    fig.set(xticklabels=[\" \"])\n",
    "plt.tight_layout();"
   ]
  },
  {
   "cell_type": "code",
   "execution_count": null,
   "metadata": {},
   "outputs": [],
   "source": [
    "#Distribution for each feature to understand how our data is organized\n",
    "data.hist(figsize = (12,10));"
   ]
  },
  {
   "cell_type": "code",
   "execution_count": null,
   "metadata": {},
   "outputs": [],
   "source": [
    "fig,ax=plt.subplots(4,2,figsize=(15,15))\n",
    "fig.delaxes(ax[3,1])\n",
    "\n",
    "for i,cols in enumerate(['Pregnancies','Glucose','BloodPressure','SkinThickness','Insulin','BMI','DiabetesPedigreeFunction']):\n",
    "    fig = sns.swarmplot(x = 'Outcome', y = cols,data = data,ax=ax[i//2,i%2],palette = 'Set3')  \n",
    "    fig.set(xticklabels=[\"Don't have Diabetes\",\"Have Diabetes\"])\n",
    "plt.tight_layout();"
   ]
  },
  {
   "cell_type": "code",
   "execution_count": null,
   "metadata": {},
   "outputs": [],
   "source": [
    "#Sorting age column data into age groups and making a new column.\n",
    "bins = [20,30,40,50,60,70]\n",
    "data['age_bins']=pd.cut(data['Age'], bins=bins)\n",
    "data.head()"
   ]
  },
  {
   "cell_type": "code",
   "execution_count": null,
   "metadata": {},
   "outputs": [],
   "source": [
    "fig,ax = plt.subplots(1,2,figsize=(15,5))\n",
    "\n",
    "ax[0].set_title('Presence of Diabetes')\n",
    "fig = sns.countplot(x='Outcome',data=data,palette='rocket',ax = ax[0])\n",
    "fig.set(xticklabels=[\"Don't have Diabetes\",\"Have Diabetes\"])\n",
    "ax[0].set_ylabel(\"Number of People\")\n",
    "\n",
    "ax[1].set_title('Presence of Diabetes by Age Group')\n",
    "sns.countplot(x='age_bins',data=data ,hue='Outcome',palette='rocket',ax = ax[1])\n",
    "ax[1].legend([\"Dont have Diabetes\",\"Have Diabetes\"],loc = 1)\n",
    "ax[1].set_xlabel('Age Group')\n",
    "ax[1].set_ylabel('Number of People');"
   ]
  },
  {
   "cell_type": "markdown",
   "metadata": {},
   "source": [
    "* **BIVARIATE ANALYSIS**"
   ]
  },
  {
   "cell_type": "code",
   "execution_count": null,
   "metadata": {},
   "outputs": [],
   "source": [
    "#Pairplot to conduct a bivariate analysis and see if there is high correlation between any 2 variables.\n",
    "sns.pairplot(data=data,hue='Outcome');"
   ]
  },
  {
   "cell_type": "markdown",
   "metadata": {},
   "source": [
    "Additionally we will check for high correlation of values by using heatmap"
   ]
  },
  {
   "cell_type": "code",
   "execution_count": null,
   "metadata": {},
   "outputs": [],
   "source": [
    "plt.figure(figsize = (8,8))\n",
    "sns.heatmap(data.corr(),annot = True,square = True);"
   ]
  },
  {
   "cell_type": "markdown",
   "metadata": {},
   "source": [
    "Highest Correlations: Glucose and Insulin - 0.58, BMI and SkinThickness - 0.65, Pregnancy and Age - 0.54.\n",
    "Since none of these are extremely high we won't be dropping columns."
   ]
  },
  {
   "cell_type": "code",
   "execution_count": null,
   "metadata": {},
   "outputs": [],
   "source": [
    "data.drop('age_bins',axis = 1,inplace = True)"
   ]
  },
  {
   "cell_type": "code",
   "execution_count": null,
   "metadata": {},
   "outputs": [],
   "source": [
    "fig,ax=plt.subplots(4,2,figsize=(15,15))\n",
    "fig.delaxes(ax[3,1])\n",
    "\n",
    "for i,cols in enumerate(['Pregnancies','Glucose','BloodPressure','SkinThickness','Insulin','BMI','DiabetesPedigreeFunction']):\n",
    "    sns.distplot(data[data.Outcome == 0][cols], color='turquoise', kde=False, label='No Diabetes', ax=ax[i//2,i%2])\n",
    "    sns.distplot(data[data.Outcome == 1][cols], color='coral', kde=False, label='Diabetes',ax=ax[i//2,i%2])\n",
    "plt.legend()\n",
    "plt.show()"
   ]
  },
  {
   "cell_type": "code",
   "execution_count": null,
   "metadata": {},
   "outputs": [],
   "source": [
    "#Dropping columns with extreme outliers\n",
    "from scipy import stats\n",
    "data[(np.abs(stats.zscore(df)) < 3).all(axis=1)]\n",
    "data.shape"
   ]
  },
  {
   "cell_type": "code",
   "execution_count": null,
   "metadata": {},
   "outputs": [],
   "source": [
    "data.shape"
   ]
  },
  {
   "cell_type": "markdown",
   "metadata": {},
   "source": [
    "This is after Z score implementation"
   ]
  },
  {
   "cell_type": "code",
   "execution_count": null,
   "metadata": {},
   "outputs": [],
   "source": [
    "fig,ax=plt.subplots(4,2,figsize=(15,15))\n",
    "fig.delaxes(ax[3,1])\n",
    "\n",
    "for i,cols in enumerate(['Pregnancies','Glucose','BloodPressure','SkinThickness','Insulin','BMI','DiabetesPedigreeFunction']):\n",
    "    fig = sns.boxplot(x = 'Outcome',y = cols,data = df_1,ax=ax[i//2,i%2],color='turquoise')\n",
    "    fig = sns.boxplot(x = 'Outcome',y = cols,data = df_0,ax=ax[i//2,i%2],color='coral')\n",
    "    fig.set(xticklabels=[\" \"])\n",
    "plt.tight_layout();"
   ]
  },
  {
   "cell_type": "markdown",
   "metadata": {},
   "source": [
    "The shape remained the same but the box plot clearly shows us outliers so we use another method "
   ]
  },
  {
   "cell_type": "markdown",
   "metadata": {},
   "source": [
    "Checking for outliers using IQR Score. IQR Score is used to filter out the outliers by keeping only valid values. It is a measure of statistical dispersion, being equal to the difference between 75th and 25th percentiles"
   ]
  },
  {
   "cell_type": "code",
   "execution_count": null,
   "metadata": {},
   "outputs": [],
   "source": [
    "Q1 = data.quantile(0.25)\n",
    "Q3 = data.quantile(0.75)\n",
    "IQR = Q3 - Q1\n",
    "print(IQR)\n",
    "data_new = data[~((data < (Q1 - 1.5 * IQR)) |(data > (Q3 + 1.5 * IQR))).any(axis=1)]\n",
    "data_new.shape"
   ]
  },
  {
   "cell_type": "markdown",
   "metadata": {},
   "source": [
    "Clearly the shape has changed telling us that we had outliers which have been removed"
   ]
  },
  {
   "cell_type": "code",
   "execution_count": null,
   "metadata": {},
   "outputs": [],
   "source": [
    "df0=data_new[data_new['Outcome']==0]\n",
    "df1=data_new[data_new['Outcome']==1]"
   ]
  },
  {
   "cell_type": "markdown",
   "metadata": {},
   "source": [
    "Now to show the change we use both violin plot and box plot to show removal of outliers"
   ]
  },
  {
   "cell_type": "code",
   "execution_count": null,
   "metadata": {},
   "outputs": [],
   "source": [
    "fig,ax=plt.subplots(4,2,figsize=(15,15))\n",
    "fig.delaxes(ax[3,1])\n",
    "\n",
    "for i,cols in enumerate(['Pregnancies','Glucose','BloodPressure','SkinThickness','Insulin','BMI','DiabetesPedigreeFunction']):\n",
    "    fig = sns.violinplot(x = 'Outcome',y = cols,data = df1,ax=ax[i//2,i%2],color='turquoise',violinmode='overlay')\n",
    "    fig = sns.violinplot(x = 'Outcome',y = cols,data = df0,ax=ax[i//2,i%2],color='coral',violinmode='overlay')\n",
    "    fig.set(xticklabels=[\" \"])\n",
    "plt.tight_layout();"
   ]
  },
  {
   "cell_type": "code",
   "execution_count": null,
   "metadata": {},
   "outputs": [],
   "source": [
    "fig,ax=plt.subplots(4,2,figsize=(15,15))\n",
    "fig.delaxes(ax[3,1])\n",
    "\n",
    "for i,cols in enumerate(['Pregnancies','Glucose','BloodPressure','SkinThickness','Insulin','BMI','DiabetesPedigreeFunction']):\n",
    "    fig = sns.boxplot(x = 'Outcome',y = cols,data = df1,ax=ax[i//2,i%2],color='turquoise')\n",
    "    fig = sns.boxplot(x = 'Outcome',y = cols,data = df0,ax=ax[i//2,i%2],color='coral')\n",
    "    fig.set(xticklabels=[\" \"])\n",
    "plt.tight_layout();"
   ]
  },
  {
   "cell_type": "code",
   "execution_count": null,
   "metadata": {},
   "outputs": [],
   "source": [
    "x = data_new.iloc[:,:-1].values\n",
    "y = data_new.iloc[:,-1].values"
   ]
  },
  {
   "cell_type": "markdown",
   "metadata": {},
   "source": [
    "This is for you to read bro, i assigned random state 101 since i learnt some really good values for it recently like, 1,0,42,40 and 101. "
   ]
  },
  {
   "cell_type": "code",
   "execution_count": null,
   "metadata": {},
   "outputs": [],
   "source": [
    "from sklearn.model_selection import GridSearchCV, train_test_split \n",
    "x_train, x_test, y_train, y_test = train_test_split(x,y,test_size=0.25,random_state=101)"
   ]
  },
  {
   "cell_type": "code",
   "execution_count": null,
   "metadata": {},
   "outputs": [],
   "source": [
    "from sklearn.ensemble import RandomForestClassifier\n",
    "rf = RandomForestClassifier(n_estimators=100)\n",
    "rf.fit(x_train, y_train)"
   ]
  },
  {
   "cell_type": "code",
   "execution_count": null,
   "metadata": {},
   "outputs": [],
   "source": [
    "preds = rf.predict(x_test)"
   ]
  },
  {
   "cell_type": "code",
   "execution_count": null,
   "metadata": {},
   "outputs": [],
   "source": [
    "from sklearn import metrics\n",
    "print(metrics.confusion_matrix(y_test,preds))"
   ]
  },
  {
   "cell_type": "code",
   "execution_count": null,
   "metadata": {},
   "outputs": [],
   "source": [
    "print(metrics.accuracy_score(y_test,preds))"
   ]
  },
  {
   "cell_type": "markdown",
   "metadata": {},
   "source": [
    "Please do check if i am making a mistake in gridsearchcv"
   ]
  },
  {
   "cell_type": "code",
   "execution_count": null,
   "metadata": {},
   "outputs": [],
   "source": [
    "param_grid = { \n",
    "    'n_estimators': [50,100,200,500],\n",
    "    'max_features': ['auto', 'sqrt', 'log2'],\n",
    "    'max_depth' : [2,3,4,5,6,7,8],\n",
    "}"
   ]
  },
  {
   "cell_type": "code",
   "execution_count": null,
   "metadata": {},
   "outputs": [],
   "source": [
    "grid = GridSearchCV(estimator=rf, param_grid=param_grid, cv= 5)\n",
    "grid.fit(x_train, y_train)"
   ]
  },
  {
   "cell_type": "code",
   "execution_count": null,
   "metadata": {},
   "outputs": [],
   "source": [
    "grid.best_params_"
   ]
  },
  {
   "cell_type": "code",
   "execution_count": null,
   "metadata": {},
   "outputs": [],
   "source": [
    "grid.score(x_test,y_test)"
   ]
  }
 ],
 "metadata": {
  "kernelspec": {
   "display_name": "Python 3",
   "language": "python",
   "name": "python3"
  },
  "language_info": {
   "codemirror_mode": {
    "name": "ipython",
    "version": 3
   },
   "file_extension": ".py",
   "mimetype": "text/x-python",
   "name": "python",
   "nbconvert_exporter": "python",
   "pygments_lexer": "ipython3",
   "version": "3.7.3"
  }
 },
 "nbformat": 4,
 "nbformat_minor": 1
}
